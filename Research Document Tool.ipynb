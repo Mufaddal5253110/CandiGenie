{
 "cells": [
  {
   "cell_type": "markdown",
   "id": "571ed8f0-5270-4704-83a0-8105245c8161",
   "metadata": {
    "scrolled": true
   },
   "source": [
    "## Document Loaders In LangChain"
   ]
  },
  {
   "cell_type": "code",
   "execution_count": 1,
   "id": "fc92e3e4-d379-4e29-9b4f-fb1452d4f25b",
   "metadata": {},
   "outputs": [],
   "source": [
    "from langchain_community.document_loaders import Docx2txtLoader"
   ]
  },
  {
   "cell_type": "code",
   "execution_count": 4,
   "id": "5fabf962-a04b-45d5-8be5-c02bc18db37d",
   "metadata": {},
   "outputs": [],
   "source": [
    "loader = Docx2txtLoader(\"resource/Mufaddal Shakir.docx\")\n",
    "\n",
    "data = loader.load()"
   ]
  },
  {
   "cell_type": "code",
   "execution_count": 5,
   "id": "0d55cb33-8036-435f-ae03-6383cd90db2c",
   "metadata": {},
   "outputs": [
    {
     "data": {
      "text/plain": [
       "'Mufaddal Shakir \\n\\nEmail ID: mufaddal@infraspec.dev\\n\\nPhone: +91 9175593155\\n\\n\\n\\nSUMMARY\\n\\nComputer Engineering graduate with a strong commitment to continuous learning and problem-solving.\\n\\nDeveloped over 12 mobile applications during college, demonstrating proficiency in Android Studio, Java, Firebase, Flutter, and web technologies.\\n\\nWell-versed in CI/CD workflows and Git, with comprehensive knowledge of DevOps best practices.\\n\\nImplemented Argo Rollouts and ArgoCD for Kubernetes deployment.\\n\\nProvisioned infrastructure using Terraform, adhering to best practices for efficient and scalable deployment.\\n\\nExperienced in leading successful migrations, optimizing deployments, and contributing to ongoing feature development. \\n\\nA dynamic individual, always ready for new experiences and adept at meeting challenges head-on.\\n\\n\\n\\nSKILLS\\n\\nLanguages: C++, Python, Java, SQL (MySQL)\\n\\nFrameworks: Flutter, Nodejs, MongoDB, Android(Java)\\n\\nPlatforms: Firebase, AWS\\n\\nTools: Git & Github\\n\\nPractices: Model View Controller (MVC), Model View View-Model (MVVM)\\n\\nFamiliar: HTML, CSS, JavaScript, DSA, DBMS, OS, CN, Dart\\n\\nInfrastructure: Kubernetes, ArgoCD, Argo-rollouts, Docker, Terraform, CI/CD, IAC\\n\\n\\n\\nEXPERIENCE\\n\\nInfraspec - Software Engineer (Sep 2023 - Present)\\n\\nUtilized Terraform to provision AWS infrastructure components from scratch, including ECS and ALB, ensuring all necessary components were in place to support application deployment and operation.\\n\\nImproved automated deployment, testing, and release processes using GitHub Actions by building application images, running tests, and deploying to ECS or EKS with appropriate deployment methods.\\n\\nIntegrated AWS Single Sign-On (SSO) with Google to enable secure sign-in using organizational emails.\\n\\nAutomated access management for AWS accounts and permissions with Terraform, streamlining onboarding and offboarding processes for scalability and ease of use.\\n\\nZepto\\n\\nImplemented Argo-rollout for progressive Kubernetes deployment and optimized Dockerfiles and Helm charts for smoother rollouts.\\n\\nEstablished a clean GitHub Action CI/CD workflow adhering to best practices, including reusable workflows for continuous integration and deployment.\\n\\nEnhanced deployment reliability through lint checks, Trivy image scanning, and secure EKS access.\\n\\nAutomated periodic production database access using AWS Session Manager and bastion host, further refined with a Slack bot trigger linked to GitHub Action workflows, automating the entire process seamlessly.\\n\\nPlayed a key role in migrating backend services from AWS EC2 to EKS for cost optimization, overcoming various challenges.\\n\\nDevised a solution addressing migration complexities, including differing setups on different VPCs, gradual API shifting, and ensuring zero downtime during rollback or migration, with minimal latency differences.\\n\\n\\n\\nJura Systems - Software Engineer Intern (Jan 2023 - June 2023)\\n\\n\"Rentro\" is a comprehensive inventory solution app for rental businesses, available on both web and mobile platforms, catering to small to large enterprises\\n\\nUtilizing Node.js, JavaScript, and Firebase functions, Rentro incorporates essential features such as push notifications, real-time updates, data caching, and pagination, making it a trusted choice for 6 rental business owners on the Play Store\\n\\nBuilt using Flutter and Firebase with an MVVM architecture, it ensures seamless user experiences, real-time updates, and efficient data handling for rental businesses of all sizes\\n\\n\\n\\nArnd - Software Engineer Intern (Apr 2022 - Nov 2022)\\n\\nDeveloped Firebase functions in Node.js for efficient data management and Firebase Cloud Messaging for real-time communication.\\n\\nDesigned a NoSQL database structure and implemented features like data caching with Hive, pagination, and responsive UI with state management using Provider.\\n\\nSuccessfully launched a Flutter-based mobile app and responsive website, now serving over 100 users from IIT Bombay.\\n\\n\\n\\nSoftEzi Solution LLP - Software Engineer Intern (Apr 2021 - July 2022)\\n\\nNeumorphic Design: Crafted a modern and stylish neumorphic design for both user and admin apps, enhancing the user interface for a visually appealing experience\\n\\nFeature-Rich Functionality: Integrated Instagram-like features, including live streaming, video and audio calling with quality controls, and added advanced functionalities, delivering an immersive and interactive user experience\\n\\nSeamless User Experience: Facilitated online payments through Razorpay, enabled social login via Google and Facebook, implemented data caching with Hive, and optimized content navigation with pagination, ensuring a smooth and convenient experience for Zodiac Zone users, with over 10+ downloads on the Play Store.\\n\\n\\n\\nPERSONAL PROJECTS\\n\\nAmazon Server - 🔗\\n\\nProject includes product posting, user authentication, and seamless CRUD operations for products with automatic data population\\n\\nUsing Nodejs, typescript, MongoDB, Express\\n\\n\\n\\nSocial App Backend - 🔗\\n\\nSocial Media Features: Implement image posting, user authentication, liking, commenting, and user follow/unfollow functionalities\\n\\nEnhanced User Experience: Enhance user navigation with pagination for posts, comments, and user search results\\n\\nUsing Nodejs, JavaScript, MongoDB, Express\\n\\n\\n\\nBudget Buddy - 🔗\\n\\nBudget Buddy: Simplify your finances with daily, monthly, weekly, and yearly spending tracking, intuitive charts, and customizable categories\\n\\nEffortless Expense Management: Experience the ultimate user-friendly app for effortless managing your finances\\n\\nUsing Flutter and SQL Database, Provider for State Management\\n\\n\\n\\nLottery DApp - 🔗\\n\\nTruffle with Web3Dart enables seamless integration of smart contracts into Flutter apps for creating decentralized lottery ticket buying and selling applications\\n\\nThis combination empowers users to participate in blockchain-based lotteries directly from their Flutter mobile app, enhancing transparency and security in the process\\n\\nBuilt Using Flutter & Blockchain(Solidity)\\n\\n\\n\\nEDUCATION\\n\\nBachelor of Engineering(Computer Engineering) (2019-2023) - Savitribai Phule Pune University. (CGPA: 8.95/10)\\n\\n\\n\\nCERTIFICATIONS\\n\\nServer-side Development With NodeJS, Express And MongoDB\\n\\nCoursera, Online\\n\\nResponsive Web Design\\n\\nFreeCodeCamp, Online\\n\\nA Complete Guide To The Flutter SDK & Flutter Framework For Building Native IOS And Android Apps\\n\\nUdemy, Online\\n\\nCrash Course On Python\\n\\nCoursera, Online\\n\\n\\n\\nUltimate AWS Certified Cloud Practitioner CLF-C02\\n\\nUdemy, Online\\n\\nKubernetes for the Absolute Beginners - Hands-on\\n\\nUdemy, Online\\n\\n\\n\\nPROFILES\\n\\nhttps://www.linkedin.com/in/mufaddalshakir/\\n\\nhttps://github.com/Mufaddal5253110\\n\\nhttps://mufaddalshakir.web.app/'"
      ]
     },
     "execution_count": 5,
     "metadata": {},
     "output_type": "execute_result"
    }
   ],
   "source": [
    "data[0].page_content"
   ]
  },
  {
   "cell_type": "code",
   "execution_count": 6,
   "id": "6dcc7c83-5bb3-4eb0-be5e-34be7f66b802",
   "metadata": {},
   "outputs": [
    {
     "data": {
      "text/plain": [
       "{'source': 'resource/Mufaddal Shakir.docx'}"
      ]
     },
     "execution_count": 6,
     "metadata": {},
     "output_type": "execute_result"
    }
   ],
   "source": [
    "data[0].metadata"
   ]
  },
  {
   "cell_type": "markdown",
   "id": "28a10d26-5a91-4384-9411-965e40dfdccd",
   "metadata": {},
   "source": [
    "## Text Splitters\n",
    "\n",
    "Why do we need text splitters in first place?\n",
    "\n",
    "LLM's have token limits. Hence we need to split the text which can be large into small chunks so that each chunk size is under the token limit. There are various text splitter classes in langchain that allows us to do this.\n",
    "\n",
    "Splitting data into chunks can be done in native python but it is a tidious process. Also if necessary, you may need to experiment with various delimiters in an iterative manner to ensure that each chunk does not exceed the token length limit of the respective LLM.\n",
    "\n",
    "**Langchain provides a better way through text splitter classes.**"
   ]
  },
  {
   "cell_type": "code",
   "execution_count": 7,
   "id": "3e21fc40-376b-4504-92d3-0c0cabbb9157",
   "metadata": {},
   "outputs": [],
   "source": [
    "from langchain_text_splitters import RecursiveCharacterTextSplitter\n",
    "\n",
    "r_splitter = RecursiveCharacterTextSplitter(\n",
    "    separators = [\"\\n\\n\", \"\\n\", \" \", \"\"],  # List of separators based on requirement (defaults to [\"\\n\\n\", \"\\n\", \" \", \"\"])\n",
    "    chunk_size = 1000,  # size of each chunk created\n",
    "    chunk_overlap  = 0,  # size of  overlap between chunks in order to maintain the context\n",
    "    length_function = len  # Function to calculate size, currently we are using \"len\" which denotes length of string however you can pass any token counter)\n",
    ")"
   ]
  },
  {
   "cell_type": "code",
   "execution_count": 8,
   "id": "6292f376-3ed5-47fb-87a1-c34953f69aa4",
   "metadata": {},
   "outputs": [],
   "source": [
    "chunks = r_splitter.split_text(data[0].page_content)"
   ]
  },
  {
   "cell_type": "code",
   "execution_count": 10,
   "id": "625c91fb-bda0-4518-837c-9fdb9503f7b7",
   "metadata": {},
   "outputs": [
    {
     "data": {
      "text/plain": [
       "8"
      ]
     },
     "execution_count": 10,
     "metadata": {},
     "output_type": "execute_result"
    }
   ],
   "source": [
    "len(chunks)"
   ]
  },
  {
   "cell_type": "markdown",
   "id": "9b63af24-bbcc-4829-8247-31fa09f8f445",
   "metadata": {},
   "source": [
    "Recursive text splitter uses a list of separators, i.e. separators = [\"\\n\\n\", \"\\n\", \" \", \"\"]\n",
    "\n",
    "So now it will first split using \\n\\n and then if the resulting chunk size is greater than the chunk_size parameter which is 300 in our case, then it will use the next separator which is \\n"
   ]
  },
  {
   "cell_type": "code",
   "execution_count": 11,
   "id": "3c4ded3b-5a92-4987-9446-334521dc0220",
   "metadata": {},
   "outputs": [
    {
     "name": "stdout",
     "output_type": "stream",
     "text": [
      "974\n",
      "938\n",
      "988\n",
      "928\n",
      "937\n",
      "842\n",
      "982\n",
      "67\n"
     ]
    }
   ],
   "source": [
    "for chunk in chunks:\n",
    "    print(len(chunk))"
   ]
  },
  {
   "cell_type": "markdown",
   "id": "94d06779-d915-4aef-b25d-2fca03ade495",
   "metadata": {},
   "source": [
    "Langchain can be used to recursively split the text based on a list of separators. This class is RecursiveTextSplitter."
   ]
  },
  {
   "cell_type": "code",
   "execution_count": 14,
   "id": "30e59f90-a2a6-4a15-99af-61d5520d5c1a",
   "metadata": {},
   "outputs": [
    {
     "name": "stdout",
     "output_type": "stream",
     "text": [
      "Mufaddal Shakir \n",
      "\n",
      "Email ID: mufaddal@infraspec.dev\n",
      "\n",
      "Phone: +91 9175593155\n",
      "\n",
      "\n",
      "\n",
      "SUMMARY\n",
      "\n",
      "Computer Engineering graduate with a strong commitment to continuous learning and problem-solving.\n",
      "\n",
      "Developed over 12 mobile applications during college, demonstrating proficiency in Android Studio, Java, Firebase, Flutter, and web technologies.\n",
      "\n",
      "Well-versed in CI/CD workflows and Git, with comprehensive knowledge of DevOps best practices.\n",
      "\n",
      "Implemented Argo Rollouts and ArgoCD for Kubernetes deployment.\n",
      "\n",
      "Provisioned infrastructure using Terraform, adhering to best practices for efficient and scalable deployment.\n",
      "\n",
      "Experienced in leading successful migrations, optimizing deployments, and contributing to ongoing feature development. \n",
      "\n",
      "A dynamic individual, always ready for new experiences and adept at meeting challenges head-on.\n",
      "\n",
      "\n",
      "\n",
      "SKILLS\n",
      "\n",
      "Languages: C++, Python, Java, SQL (MySQL)\n",
      "\n",
      "Frameworks: Flutter, Nodejs, MongoDB, Android(Java)\n",
      "\n",
      "Platforms: Firebase, AWS\n",
      "\n",
      "Tools: Git & Github\n"
     ]
    }
   ],
   "source": [
    "print(chunks[0])"
   ]
  },
  {
   "cell_type": "code",
   "execution_count": 15,
   "id": "7497c0c4-648d-488a-92dc-5021dfcd727f",
   "metadata": {},
   "outputs": [
    {
     "name": "stdout",
     "output_type": "stream",
     "text": [
      "Error: No module named 'sentencepiece'\n"
     ]
    }
   ],
   "source": [
    "# test_imports.py\n",
    "try:\n",
    "    from transformers import AutoModel, AutoTokenizer\n",
    "    from sentencepiece import SentencePieceProcessor\n",
    "    print(\"Imports successful\")\n",
    "except Exception as e:\n",
    "    print(f\"Error: {e}\")"
   ]
  },
  {
   "cell_type": "code",
   "execution_count": 16,
   "id": "9b3ae58a-acb6-43f8-ba5f-73e809dc3d67",
   "metadata": {},
   "outputs": [
    {
     "name": "stderr",
     "output_type": "stream",
     "text": [
      "/var/folders/f3/npr49wpd2kx066g2fs_xnbqh0000gn/T/ipykernel_25282/3977610488.py:4: LangChainDeprecationWarning: The class `HuggingFaceEmbeddings` was deprecated in LangChain 0.2.2 and will be removed in 1.0. An updated version of the class exists in the :class:`~langchain-huggingface package and should be used instead. To use it run `pip install -U :class:`~langchain-huggingface` and import as `from :class:`~langchain_huggingface import HuggingFaceEmbeddings``.\n",
      "  embeddings = HuggingFaceEmbeddings(model_name=\"sentence-transformers/all-mpnet-base-v2\")\n"
     ]
    }
   ],
   "source": [
    "from langchain_experimental.text_splitter import SemanticChunker\n",
    "from langchain.embeddings import HuggingFaceEmbeddings\n",
    "\n",
    "embeddings = HuggingFaceEmbeddings(model_name=\"sentence-transformers/all-mpnet-base-v2\")"
   ]
  },
  {
   "cell_type": "code",
   "execution_count": 18,
   "id": "7a23f3b6-f66a-4349-8b4d-4871793ff096",
   "metadata": {},
   "outputs": [],
   "source": [
    "text_splitter = SemanticChunker(embeddings)"
   ]
  },
  {
   "cell_type": "code",
   "execution_count": 91,
   "id": "4b7de8b9-71c3-4140-93fb-7bfccbcba885",
   "metadata": {},
   "outputs": [
    {
     "name": "stdout",
     "output_type": "stream",
     "text": [
      "Requirement already satisfied: numpy in /Library/Frameworks/Python.framework/Versions/3.12/lib/python3.12/site-packages (1.26.4)\n",
      "\n",
      "\u001b[1m[\u001b[0m\u001b[34;49mnotice\u001b[0m\u001b[1;39;49m]\u001b[0m\u001b[39;49m A new release of pip is available: \u001b[0m\u001b[31;49m23.3.1\u001b[0m\u001b[39;49m -> \u001b[0m\u001b[32;49m24.3.1\u001b[0m\n",
      "\u001b[1m[\u001b[0m\u001b[34;49mnotice\u001b[0m\u001b[1;39;49m]\u001b[0m\u001b[39;49m To update, run: \u001b[0m\u001b[32;49mpip install --upgrade pip\u001b[0m\n"
     ]
    }
   ],
   "source": [
    "import sys\n",
    "!{sys.executable} -m pip install --user numpy"
   ]
  },
  {
   "cell_type": "code",
   "execution_count": 19,
   "id": "6af8bba8-48c1-41ea-aff1-1a77beea0609",
   "metadata": {},
   "outputs": [],
   "source": [
    "from transformers import AutoModel"
   ]
  },
  {
   "cell_type": "code",
   "execution_count": null,
   "id": "4e17fe9b-80a0-45f1-aff7-d442be1a8f4e",
   "metadata": {},
   "outputs": [],
   "source": []
  }
 ],
 "metadata": {
  "kernelspec": {
   "display_name": "Python 3 (ipykernel)",
   "language": "python",
   "name": "python3"
  },
  "language_info": {
   "codemirror_mode": {
    "name": "ipython",
    "version": 3
   },
   "file_extension": ".py",
   "mimetype": "text/x-python",
   "name": "python",
   "nbconvert_exporter": "python",
   "pygments_lexer": "ipython3",
   "version": "3.12.0"
  }
 },
 "nbformat": 4,
 "nbformat_minor": 5
}
